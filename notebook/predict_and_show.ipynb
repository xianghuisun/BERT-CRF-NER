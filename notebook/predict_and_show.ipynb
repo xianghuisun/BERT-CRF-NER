{
 "cells": [
  {
   "cell_type": "code",
   "execution_count": 1,
   "id": "71e91039",
   "metadata": {},
   "outputs": [],
   "source": [
    "import sys,os\n",
    "sys.path.append(os.path.abspath('../'))"
   ]
  },
  {
   "cell_type": "code",
   "execution_count": 2,
   "id": "9d29a0b8",
   "metadata": {},
   "outputs": [
    {
     "name": "stdout",
     "output_type": "stream",
     "text": [
      "{'model_name_or_path': '/data/aisearch/nlp/data/xhsun/docker_run/semeval_dp/bert_large_wwm', 'file_path': '/data/aisearch/nlp/data/xhsun/docker_run/semeval_dp/bert_for_ner/data/opener_en', 'save_dir': '/data/aisearch/nlp/data/xhsun/docker_run/semeval_dp/bert_for_ner/saved_models/bert-large-wwm-opener_en-Source', 'ckpt': None, 'learning_rate': 3e-05, 'weight_decay': 1e-05, 'epochs': 30, 'train_batch_size': 64, 'gradient_accumulation_steps': 1, 'lstm_hidden_size': 150, 'test_batch_size': 64, 'max_grad_norm': 1, 'warmup_proportion': 0.1, 'max_len': 196, 'patience': 100, 'seed': 42, 'num_workers': 1, 'take_longest_token': False}\n",
      "<All keys matched successfully>\n",
      "['B-Source' 'I-Source' 'O']\n"
     ]
    }
   ],
   "source": [
    "from models.bert_lstm_crf import NERNetwork\n",
    "from preprocess import create_dataloader, get_semeval_data\n",
    "import json,os\n",
    "import torch\n",
    "import sklearn.preprocessing\n",
    "from transformers import AutoTokenizer, AutoConfig\n",
    "from utils import batch_to_device,compute_f1\n",
    "import matplotlib.pyplot as plt\n",
    "import numpy as np\n",
    "from tqdm import tqdm\n",
    "device='cuda' if torch.cuda.is_available() else 'cpu'\n",
    "\n",
    "def predict(model,test_dataloader,tag_encoder,device):\n",
    "    if model.training:\n",
    "        model.eval()\n",
    "    \n",
    "    predictions=[]\n",
    "    for batch in tqdm(test_dataloader,total=len(test_dataloader),unit='batch'):\n",
    "        batch=batch_to_device(inputs=batch,device=device)\n",
    "        input_ids,attention_mask,token_type_ids = batch['input_ids'], batch['attention_mask'], batch['token_type_ids']\n",
    "        with torch.no_grad():\n",
    "            outputs=model.predict(input_ids=input_ids,attention_mask=attention_mask,token_type_ids=token_type_ids)#(batch_size,seq_length,num_classes)\n",
    "\n",
    "        for i,predict_tag_seq in enumerate(outputs):\n",
    "            preds = tag_encoder.inverse_transform(predict_tag_seq)#(with wordpiece)\n",
    "            preds = [prediction for prediction, offset in zip(preds.tolist(), batch.get('offsets')[i]) if offset]#offsets = [1] + offsets + [1]\n",
    "            preds = preds[1:-1]\n",
    "            #print(sum(attention_mask[i])-2,len(preds),preds)\n",
    "            predictions.append(preds)\n",
    "    \n",
    "    return predictions\n",
    "\n",
    "\n",
    "save_dir='../saved_models/bert-large-wwm-opener_en-Source/'\n",
    "\n",
    "args=json.load(open(os.path.join(save_dir,'args_config.dict')))\n",
    "\n",
    "tokenizer_parameters=json.load(open(os.path.join(args['model_name_or_path'],'tokenizer_config.json')))\n",
    "transformer_tokenizer=AutoTokenizer.from_pretrained(args['model_name_or_path'],**tokenizer_parameters)\n",
    "transformer_config=AutoConfig.from_pretrained(args['model_name_or_path'])\n",
    "\n",
    "tag_complete=json.load(open(os.path.join(save_dir,'label.json'))).split(' ')\n",
    "tag_encoder=sklearn.preprocessing.LabelEncoder()\n",
    "tag_encoder.fit(tag_complete)\n",
    "tag_outside='O'\n",
    "\n",
    "n_tags=tag_encoder.classes_.shape[0]\n",
    "\n",
    "class Args:\n",
    "    def __init__(self) -> None:\n",
    "        pass\n",
    "\n",
    "args_=Args()\n",
    "for k, v in args.items():\n",
    "    args_.__setattr__(k,v)\n",
    "print(args_.__dict__)\n",
    "model=NERNetwork(config=args_,n_tags=n_tags)\n",
    "success=model.load_state_dict(torch.load(f=os.path.join(save_dir,'pytorch_model.bin'),map_location='cpu'))\n",
    "print(success)\n",
    "model=model.to(device)\n",
    "print(tag_encoder.classes_)"
   ]
  },
  {
   "cell_type": "code",
   "execution_count": 3,
   "id": "1e8cbe0c",
   "metadata": {},
   "outputs": [
    {
     "name": "stderr",
     "output_type": "stream",
     "text": [
      "  0%|          | 0/7 [00:00<?, ?batch/s]/home/cdou/anaconda3/lib/python3.8/site-packages/torchcrf/__init__.py:305: UserWarning: where received a uint8 condition tensor. This behavior is deprecated and will be removed in a future version of PyTorch. Use a boolean condition instead. (Triggered internally at  /pytorch/aten/src/ATen/native/TensorCompare.cpp:255.)\n",
      "  score = torch.where(mask[i].unsqueeze(1), next_score, score)\n",
      "100%|██████████| 7/7 [00:04<00:00,  1.70batch/s]"
     ]
    },
    {
     "name": "stdout",
     "output_type": "stream",
     "text": [
      "              precision    recall  f1-score   support\n",
      "\n",
      "      Source     0.6458    0.7949    0.7126        39\n",
      "\n",
      "   micro avg     0.6458    0.7949    0.7126        39\n",
      "   macro avg     0.6458    0.7949    0.7126        39\n",
      "weighted avg     0.6458    0.7949    0.7126        39\n",
      "\n",
      "F1 : 0.7126436781609194, accuracy : 0.9912369396697001, precision : 0.6458333333333334, recall : 0.7948717948717948\n",
      "F1 score in test set is 0.7126436781609194\n"
     ]
    },
    {
     "name": "stderr",
     "output_type": "stream",
     "text": [
      "\n"
     ]
    }
   ],
   "source": [
    "test_conll_data=get_semeval_data(split='dev',dir='../data/opener_en',entity_idx=3)\n",
    "test_dataloader=create_dataloader(sentences=test_conll_data.get('sentences'),\n",
    "                                    tags=test_conll_data.get('tags'),\n",
    "                                    transformer_tokenizer=transformer_tokenizer,\n",
    "                                    transformer_config=transformer_config,\n",
    "                                    max_len=args['max_len'],\n",
    "                                    tag_encoder=tag_encoder,\n",
    "                                    tag_outside=tag_outside,\n",
    "                                    batch_size=32,\n",
    "                                    num_workers=args['num_workers'],\n",
    "                                    is_training=False)\n",
    "predictions=predict(model=model,test_dataloader=test_dataloader,tag_encoder=tag_encoder,device=device)\n",
    "f1=compute_f1(pred_tags=predictions,golden_tags=test_conll_data.get('tags'),from_test=True)\n",
    "\n",
    "print(\"F1 score in test set is {}\".format(f1))"
   ]
  },
  {
   "cell_type": "markdown",
   "id": "f33d5d5d",
   "metadata": {},
   "source": [
    "# plot confusion matrix"
   ]
  },
  {
   "cell_type": "code",
   "execution_count": 4,
   "id": "1931cd97",
   "metadata": {},
   "outputs": [
    {
     "name": "stdout",
     "output_type": "stream",
     "text": [
      "['B-Source', 'I-Source', 'O']\n",
      "[[  31    0    8]\n",
      " [   0    0    1]\n",
      " [  17    0 2910]]\n"
     ]
    },
    {
     "data": {
      "image/png": "[encoded data removed]",
      "text/plain": [
       "<Figure size 1440x960 with 2 Axes>"
      ]
     },
     "metadata": {
      "needs_background": "light"
     },
     "output_type": "display_data"
    }
   ],
   "source": [
    "y_true=[]\n",
    "for sen_tags in test_conll_data.get('tags'):\n",
    "    y_true.append(tag_encoder.transform(sen_tags).tolist())\n",
    "y_pred=[]\n",
    "for sen_tags in predictions:\n",
    "    y_pred.append(tag_encoder.transform(sen_tags).tolist())\n",
    "\n",
    "labels=tag_encoder.classes_.tolist()\n",
    "print(labels)\n",
    "\n",
    "confusion_matrix_=np.zeros((tag_encoder.classes_.shape[0],tag_encoder.classes_.shape[0]),dtype=np.int32)\n",
    "for golden,pred in zip(y_true,y_pred):\n",
    "    assert len(golden)==len(pred)\n",
    "    for g,p in zip(golden,pred):\n",
    "        confusion_matrix_[g,p]+=1\n",
    "\n",
    "\n",
    "np.set_printoptions(precision=2)\n",
    "print(confusion_matrix_)\n",
    "plt.figure(figsize=(12, 8), dpi=120)\n",
    "\n",
    "ind_array = np.arange(len(labels))\n",
    "x, y = np.meshgrid(ind_array, ind_array)\n",
    "\n",
    "for x_val, y_val in zip(x.flatten(), y.flatten()):\n",
    "    c = confusion_matrix_[y_val][x_val]\n",
    "    if c > 0.01:\n",
    "        plt.text(x_val, y_val, \"%0.2f\" % (c,), color='red', fontsize=7, va='center', ha='center')\n",
    "# offset the tick\n",
    "tick_marks = np.array(range(len(labels))) + 0.5\n",
    "plt.gca().set_xticks(tick_marks, minor=True)\n",
    "plt.gca().set_yticks(tick_marks, minor=True)\n",
    "plt.gca().xaxis.set_ticks_position('none')\n",
    "plt.gca().yaxis.set_ticks_position('none')\n",
    "plt.grid(True, which='minor', linestyle='-')\n",
    "plt.gcf().subplots_adjust(bottom=0.15)\n",
    "\n",
    "def plot_confusion_matrix(cm, title='Confusion Matrix', cmap=plt.cm.binary):\n",
    "    plt.imshow(cm, interpolation='nearest', cmap=cmap)\n",
    "    plt.title(title)\n",
    "    plt.colorbar()\n",
    "    xlocations = np.array(range(len(labels)))\n",
    "    plt.xticks(xlocations, labels, rotation=90)\n",
    "    plt.yticks(xlocations, labels)\n",
    "    plt.ylabel('True label')\n",
    "    plt.xlabel('Predicted label')\n",
    "plot_confusion_matrix(confusion_matrix_, title='Normalized confusion matrix')\n",
    "# show confusion matrix\n",
    "plt.show()"
   ]
  },
  {
   "cell_type": "code",
   "execution_count": 5,
   "id": "ba9c97ce",
   "metadata": {},
   "outputs": [
    {
     "name": "stdout",
     "output_type": "stream",
     "text": [
      "198 198 198\n"
     ]
    }
   ],
   "source": [
    "print(len(test_conll_data.get('sentences')),len(y_true),len(y_pred))"
   ]
  },
  {
   "cell_type": "code",
   "execution_count": 6,
   "id": "eafba019",
   "metadata": {},
   "outputs": [],
   "source": [
    "f=open('../results/Source-dev.txt','w')\n",
    "for i in range(len(y_true)):\n",
    "    sentence=test_conll_data.get('sentences')[i]\n",
    "    pred_ids=y_pred[i]\n",
    "    golden_ids=y_true[i]\n",
    "    assert len(sentence)==len(golden_ids)==len(pred_ids)\n",
    "    golden_tags=tag_encoder.inverse_transform(golden_ids)\n",
    "    pred_tags=tag_encoder.inverse_transform(pred_ids)\n",
    "    for word,g_tag,p_tag in zip(sentence,golden_tags,pred_tags):\n",
    "        f.write('\\t'.join([word,g_tag,p_tag])+'\\n')\n",
    "    f.write('\\n')\n",
    "f.close()"
   ]
  },
  {
   "cell_type": "code",
   "execution_count": 7,
   "id": "4f793e4f",
   "metadata": {},
   "outputs": [
    {
     "data": {
      "text/plain": [
       "array(['B-polar_nega', 'I-Source', 'I-Source', 'B-polar_nega', 'B-Source',\n",
       "       'I-polar_posi', 'O', 'I-Source'], dtype='<U12')"
      ]
     },
     "execution_count": 7,
     "metadata": {},
     "output_type": "execute_result"
    }
   ],
   "source": [
    "tag_encoder.inverse_transform([2,4,4,2,0,7,8,4])"
   ]
  },
  {
   "cell_type": "code",
   "execution_count": null,
   "id": "1c8834f1",
   "metadata": {},
   "outputs": [],
   "source": []
  }
 ],
 "metadata": {
  "kernelspec": {
   "display_name": "Python 3",
   "language": "python",
   "name": "python3"
  },
  "language_info": {
   "codemirror_mode": {
    "name": "ipython",
    "version": 3
   },
   "file_extension": ".py",
   "mimetype": "text/x-python",
   "name": "python",
   "nbconvert_exporter": "python",
   "pygments_lexer": "ipython3",
   "version": "3.8.8"
  }
 },
 "nbformat": 4,
 "nbformat_minor": 5
}
