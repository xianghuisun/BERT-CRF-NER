{
 "cells": [
  {
   "cell_type": "code",
   "execution_count": 1,
   "id": "0440c6d4",
   "metadata": {},
   "outputs": [],
   "source": [
    "import sys,os\n",
    "sys.path.append(os.path.abspath('../'))"
   ]
  },
  {
   "cell_type": "code",
   "execution_count": 2,
   "id": "7e1639fa",
   "metadata": {},
   "outputs": [],
   "source": [
    "from preprocess import get_conll_data"
   ]
  },
  {
   "cell_type": "code",
   "execution_count": null,
   "id": "59adf832",
   "metadata": {},
   "outputs": [],
   "source": [
    "get_conll_data(split='train',dir='data/bio_data/opener')"
   ]
  }
 ],
 "metadata": {
  "kernelspec": {
   "display_name": "Python 3",
   "language": "python",
   "name": "python3"
  },
  "language_info": {
   "codemirror_mode": {
    "name": "ipython",
    "version": 3
   },
   "file_extension": ".py",
   "mimetype": "text/x-python",
   "name": "python",
   "nbconvert_exporter": "python",
   "pygments_lexer": "ipython3",
   "version": "3.8.8"
  }
 },
 "nbformat": 4,
 "nbformat_minor": 5
}
