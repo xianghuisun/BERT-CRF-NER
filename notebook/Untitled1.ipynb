{
 "cells": [
  {
   "cell_type": "code",
   "execution_count": 1,
   "id": "5f664921",
   "metadata": {},
   "outputs": [],
   "source": [
    "import sys,os\n",
    "sys.path.append(os.path.abspath('../'))"
   ]
  },
  {
   "cell_type": "code",
   "execution_count": 2,
   "id": "a9b47c5a",
   "metadata": {},
   "outputs": [],
   "source": [
    "from preprocess import get_conll_data"
   ]
  },
  {
   "cell_type": "code",
   "execution_count": 4,
   "id": "bbf56299",
   "metadata": {},
   "outputs": [],
   "source": [
    "opener_train_data=get_conll_data(split='train',dir='../data/bio_data/opener_en')"
   ]
  },
  {
   "cell_type": "code",
   "execution_count": 12,
   "id": "03d64c42",
   "metadata": {},
   "outputs": [],
   "source": [
    "for tag_list in opener_train_data.get('tags'):\n",
    "    prev_tag='O'\n",
    "    for i in range(len(tag_list)):\n",
    "        cur_tag=tag_list[i]\n",
    "        if cur_tag!='O':\n",
    "            cur_tag_type=cur_tag[2:]            \n",
    "            if prev_tag=='O':#上一个单词的tag是O\n",
    "                if cur_tag[0]=='I':#当前单词的tag是I\n",
    "                    print(tag_list)\n",
    "                else:\n",
    "                    assert cur_tag[0]=='B'#断言当前单词的tag是B\n",
    "            else:\n",
    "                prev_tag_type=prev_tag[2:]#上一个单词的tag类型\n",
    "                if prev_tag_type==cur_tag_type:#两个单词的类型一致\n",
    "                    assert cur_tag[0]=='I'\n",
    "                else:#两个单词的类型不一致\n",
    "                    assert cur_tag[0]=='B'#当前单词的tag一定是B\n",
    "        prev_tag=cur_tag"
   ]
  },
  {
   "cell_type": "code",
   "execution_count": null,
   "id": "0a4360f7",
   "metadata": {},
   "outputs": [],
   "source": []
  }
 ],
 "metadata": {
  "kernelspec": {
   "display_name": "Python 3",
   "language": "python",
   "name": "python3"
  },
  "language_info": {
   "codemirror_mode": {
    "name": "ipython",
    "version": 3
   },
   "file_extension": ".py",
   "mimetype": "text/x-python",
   "name": "python",
   "nbconvert_exporter": "python",
   "pygments_lexer": "ipython3",
   "version": "3.8.8"
  }
 },
 "nbformat": 4,
 "nbformat_minor": 5
}
